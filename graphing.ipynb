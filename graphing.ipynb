{
  "cells": [
    {
      "cell_type": "code",
      "source": [
        "include(\"test.jl\")\n",
        "include(\"hough.jl\")\n",
        "using Plots;"
      ],
      "outputs": [],
      "execution_count": 3,
      "metadata": {
        "collapsed": false,
        "outputHidden": false,
        "inputHidden": false
      }
    },
    {
      "cell_type": "code",
      "source": [
        "#= redTheme = Theme(\n",
        "    default_color=colorant\"red\"\n",
        ") =#\n",
        "data = readData(\"A\")';\n",
        "# xtic = Guide.xticks(ticks=[0:1e8:4e8])\n",
        "# ytic = Guide.yticks(ticks=[0:0.04:0.12])\n",
        "data[:,1] .= data[:,1]/178;\n",
        "data[:,2] .= data[:,2]/9.393e-6;\n",
        "@show size(data);\n",
        "plot(data[:,1],data[:,2])"
      ],
      "outputs": [
        {
          "output_type": "stream",
          "name": "stdout",
          "text": [
            "size(data) = (2890, 2)\n",
            "if !Plots.is_installed(\"PyPlot\")\n",
            "    Pkg.add(\"PyPlot\")\n",
            "end\n",
            "withenv(\"PYTHON\" => \"\") do\n",
            "    Pkg.build(\"PyPlot\")\n",
            "end\n",
            "import Conda\n",
            "Conda.add(\"qt=4.8.5\")\n",
            "\n",
            "# now restart julia!\n",
            "\n\n"
          ]
        },
        {
          "output_type": "stream",
          "name": "stderr",
          "text": [
            "WARNING: Base.cycle is deprecated.\n",
            "  likely near In[4]:10\n",
            "WARNING: Base.cycle is deprecated.\n",
            "  likely near In[4]:10\n",
            "WARNING: Base.cycle is deprecated.\n",
            "  likely near In[4]:10\n",
            "WARNING: Base.cycle is deprecated.\n",
            "  likely near In[4]:10\n",
            "WARNING: Base.cycle is deprecated.\n",
            "  likely near In[4]:10\n",
            "\u001b[1m\u001b[33mWARNING: \u001b[39m\u001b[22m\u001b[33mCouldn't initialize pyplot.  (might need to install it?)\u001b[39m\n",
            "\u001b[1m\u001b[36mINFO: \u001b[39m\u001b[22m\u001b[36mTo do a standard install of pyplot, copy and run this:\n",
            "\n\u001b[39m"
          ]
        },
        {
          "output_type": "error",
          "ename": "LoadError",
          "evalue": "\u001b[91minvalid redefinition of constant pycolors\u001b[39m",
          "traceback": [
            "\u001b[91minvalid redefinition of constant pycolors\u001b[39m",
            ""
          ]
        }
      ],
      "execution_count": 4,
      "metadata": {
        "collapsed": false,
        "outputHidden": false,
        "inputHidden": false
      }
    },
    {
      "cell_type": "code",
      "source": [],
      "outputs": [],
      "execution_count": null,
      "metadata": {
        "collapsed": false,
        "outputHidden": false,
        "inputHidden": false
      }
    }
  ],
  "metadata": {
    "kernelspec": {
      "name": "julia-0.6",
      "language": "julia",
      "display_name": "Julia 0.6.0-pre.beta"
    },
    "kernel_info": {
      "name": "julia-0.6"
    },
    "language_info": {
      "file_extension": ".jl",
      "name": "julia",
      "mimetype": "application/julia",
      "version": "0.6.0"
    }
  },
  "nbformat": 4,
  "nbformat_minor": 4
}