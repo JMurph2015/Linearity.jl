{
  "cells": [
    {
      "cell_type": "code",
      "source": [
        "include(\"hough.jl\")"
      ],
      "outputs": [],
      "execution_count": 23,
      "metadata": {
        "collapsed": false,
        "outputHidden": false,
        "inputHidden": false
      }
    },
    {
      "cell_type": "code",
      "source": [
        "function linesDemo()\n",
        "    image = load(\"Pentagon.png\")\n",
        "    bwImg = convert.(Float64,convert.(Gray,image));\n",
        "    grad_x, grad_y = imgradients(bwImg, KernelFactors.ando5);\n",
        "    grads = (grad_x./2 .+ grad_y./2)\n",
        "    meanGrad = mean(grads)\n",
        "    stdDev = std(grads)\n",
        "    edges = grads .> meanGrad + stdDev*1.5\n",
        "    \n",
        "    figure(1)\n",
        "    imshow(edges)\n",
        "    theta, rho, houghSpace = hough(edges,1/200);\n",
        "    \n",
        "    figure(2)\n",
        "    pcolormesh(theta,rho,Array(houghSpace), shading=\"flat\", cmap=\"inferno\");\n",
        "    title(\"Hough Transform\");\n",
        "    xlabel(\"Theta (radians)\");\n",
        "    ylabel(\"Rho (pixels)\");\n",
        "    colorbar();\n",
        "    houghcopy = copy(houghSpace);\n",
        "    best = ones(Int64, 5)\n",
        "    minRadius = 20\n",
        "    sizehc = size(houghcopy)\n",
        "    for i in eachindex(best)\n",
        "        best[i] = indmax(houghcopy)\n",
        "        idx, idy = ind2sub(houghcopy, best[i])\n",
        "        houghcopy[max(idx-minRadius,1):min(idx+minRadius,sizehc[1]), max(idy-minRadius,1):min(idy+minRadius,sizehc[2])] = 0\n",
        "    end\n",
        "    idx, idy = ind2sub(houghcopy, best)\n",
        "    @show best\n",
        "    \n",
        "    figure(3)\n",
        "    pcolormesh(Array(theta),Array(rho),Array(houghSpace), shading=\"flat\", cmap=\"inferno\");\n",
        "    title(\"Hough Transform\");\n",
        "    xlabel(\"Theta (radians)\");\n",
        "    ylabel(\"Rho (pixels)\");\n",
        "    colorbar()\n",
        "    xlim([0,pi])\n",
        "    ylim([rho[1], rho[end]])\n",
        "    scatter(theta[idy], rho[idx], color=\"red\")\n",
        "    g(x,p,theta) = (p/sin(theta)-x*cot(theta))\n",
        "    \n",
        "    figure(5)\n",
        "    range = 0:240\n",
        "    imshow(flipdim(imread(\"./Pentagon.png\"),1), origin=\"lower\")\n",
        "    for i in eachindex(idx)\n",
        "        #@show rho[idx[i]]/sin(theta[idy[i]])\n",
        "        #@show cot(theta[idy[i]])\n",
        "        plot(g.(range,rho[idx[i]], theta[idy[i]]), range)\n",
        "        gca()[:set_aspect](\"equal\",\"datalim\")\n",
        "        xlim([0,320])\n",
        "        ylim([0,240])\n",
        "    end\n",
        "end"
      ],
      "outputs": [],
      "execution_count": 41,
      "metadata": {
        "collapsed": false,
        "outputHidden": false,
        "inputHidden": false
      }
    },
    {
      "cell_type": "code",
      "source": [
        "linesDemo()"
      ],
      "outputs": [],
      "execution_count": null,
      "metadata": {
        "collapsed": false,
        "outputHidden": false,
        "inputHidden": false
      }
    },
    {
      "cell_type": "code",
      "source": [],
      "outputs": [],
      "execution_count": null,
      "metadata": {
        "collapsed": false,
        "outputHidden": false,
        "inputHidden": false
      }
    }
  ],
  "metadata": {
    "kernelspec": {
      "name": "julia-0.6",
      "language": "julia",
      "display_name": "Julia 0.6.0-pre.beta"
    },
    "kernel_info": {
      "name": "julia-0.6"
    },
    "language_info": {
      "file_extension": ".jl",
      "name": "julia",
      "mimetype": "application/julia",
      "version": "0.6.0"
    }
  },
  "nbformat": 4,
  "nbformat_minor": 4
}